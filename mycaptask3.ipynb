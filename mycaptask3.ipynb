{
 "cells": [
  {
   "cell_type": "code",
   "execution_count": 1,
   "id": "122ae175",
   "metadata": {},
   "outputs": [
    {
     "name": "stdout",
     "output_type": "stream",
     "text": [
      "Union : {0, 1, 2, 3, 4, 5, 6, 8}\n",
      "Intersection : {2, 4}\n",
      "Difference : {0, 8, 6}\n",
      "Symmetric difference : {0, 1, 3, 5, 6, 8}\n"
     ]
    }
   ],
   "source": [
    "# Program to perform different set operations\n",
    "# as we do in mathematics\n",
    "\n",
    "# sets are define\n",
    "A = {0, 2, 4, 6, 8};\n",
    "B = {1, 2, 3, 4, 5};\n",
    "\n",
    "# union\n",
    "print(\"Union :\", A | B)\n",
    "\n",
    "# intersection\n",
    "print(\"Intersection :\", A & B)\n",
    "\n",
    "# difference\n",
    "print(\"Difference :\", A - B)\n",
    "\n",
    "# symmetric difference\n",
    "print(\"Symmetric difference :\", A ^ B)\n"
   ]
  },
  {
   "cell_type": "code",
   "execution_count": null,
   "id": "11091ba2",
   "metadata": {},
   "outputs": [],
   "source": []
  }
 ],
 "metadata": {
  "kernelspec": {
   "display_name": "Python 3 (ipykernel)",
   "language": "python",
   "name": "python3"
  },
  "language_info": {
   "codemirror_mode": {
    "name": "ipython",
    "version": 3
   },
   "file_extension": ".py",
   "mimetype": "text/x-python",
   "name": "python",
   "nbconvert_exporter": "python",
   "pygments_lexer": "ipython3",
   "version": "3.9.12"
  }
 },
 "nbformat": 4,
 "nbformat_minor": 5
}
